{
 "cells": [
  {
   "cell_type": "code",
   "execution_count": 1,
   "id": "8e5957a9-cec5-458f-8db4-e90f473f9a31",
   "metadata": {},
   "outputs": [],
   "source": [
    "import pandas as pd\n",
    "import os"
   ]
  },
  {
   "cell_type": "code",
   "execution_count": 2,
   "id": "c73668b6-7c22-4cb7-b361-d3019851af1c",
   "metadata": {},
   "outputs": [
    {
     "name": "stdout",
     "output_type": "stream",
     "text": [
      "Dataset d'électricité fusionné :\n",
      "                        MTU (CET/CEST) Day-ahead Price [EUR/MWh] Currency  \\\n",
      "0  01.01.2016 00:00 - 01.01.2016 01:00                     16.39      EUR   \n",
      "1  01.01.2016 01:00 - 01.01.2016 02:00                     16.04      EUR   \n",
      "2  01.01.2016 02:00 - 01.01.2016 03:00                     15.74      EUR   \n",
      "3  01.01.2016 03:00 - 01.01.2016 04:00                     15.57      EUR   \n",
      "4  01.01.2016 04:00 - 01.01.2016 05:00                     15.47      EUR   \n",
      "\n",
      "           source_file  \n",
      "0  SE3_2016_entsoe.csv  \n",
      "1  SE3_2016_entsoe.csv  \n",
      "2  SE3_2016_entsoe.csv  \n",
      "3  SE3_2016_entsoe.csv  \n",
      "4  SE3_2016_entsoe.csv  \n",
      "Dataset d'électricité fusionné enregistré sous merged_electricity.csv\n"
     ]
    }
   ],
   "source": [
    "# Dossier contenant les fichiers CSV des prix de l'électricité\n",
    "electricity_folder = \"electricity/\"\n",
    "\n",
    "# Liste tous les fichiers CSV du dossier\n",
    "electricity_files = [f for f in os.listdir(electricity_folder) if f.endswith(\".csv\")]\n",
    "\n",
    "# Initialiser une liste pour stocker les DataFrames\n",
    "df_list = []\n",
    "\n",
    "# Charger et assembler tous les fichiers CSV\n",
    "temp_dfs = []\n",
    "for file in electricity_files:\n",
    "    file_path = os.path.join(electricity_folder, file)\n",
    "    df = pd.read_csv(file_path)\n",
    "    \n",
    "    # Extraire la zone depuis le nom du fichier (ex: SE1_2024_entsoe.csv → SE1)\n",
    "    zone = file.split(\"_\")[0]  # Prend la première partie du nom du fichier\n",
    "    df[\"zone\"] = zone  # Ajouter une colonne avec la zone\n",
    "    \n",
    "    temp_dfs.append(df)\n",
    "\n",
    "# Fusionner tous les DataFrames\n",
    "df_electricity = pd.concat(temp_dfs, ignore_index=True)\n",
    "\n",
    "df_electricity = df_electricity.drop(['BZN|SE3', 'BZN|SE4', 'BZN|SE1', 'BZN|SE2'], axis=1, errors='ignore')\n",
    "\n",
    "\n",
    "# Vérifier les premières lignes du dataset fusionné\n",
    "print(\"Dataset d'électricité fusionné :\")\n",
    "print(df_electricity.head())\n",
    "\n",
    "# Sauvegarde du dataset fusionné\n",
    "merged_electricity_path = \"merged_electricity.csv\"\n",
    "df_electricity.to_csv(merged_electricity_path, index=False)\n",
    "\n",
    "print(f\"Dataset d'électricité fusionné enregistré sous {merged_electricity_path}\")\n"
   ]
  },
  {
   "cell_type": "code",
   "execution_count": null,
   "id": "f3266988-60bc-4f08-8979-d5015f465cfb",
   "metadata": {},
   "outputs": [],
   "source": []
  }
 ],
 "metadata": {
  "kernelspec": {
   "display_name": "Python 3 (ipykernel)",
   "language": "python",
   "name": "python3"
  },
  "language_info": {
   "codemirror_mode": {
    "name": "ipython",
    "version": 3
   },
   "file_extension": ".py",
   "mimetype": "text/x-python",
   "name": "python",
   "nbconvert_exporter": "python",
   "pygments_lexer": "ipython3",
   "version": "3.9.6"
  }
 },
 "nbformat": 4,
 "nbformat_minor": 5
}
